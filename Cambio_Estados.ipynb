{
 "cells": [
  {
   "cell_type": "code",
   "execution_count": 1,
   "id": "959c7938",
   "metadata": {},
   "outputs": [],
   "source": [
    "path= 'C:/covid2020/'"
   ]
  },
  {
   "cell_type": "code",
   "execution_count": 2,
   "id": "7c704576",
   "metadata": {},
   "outputs": [],
   "source": [
    "import csv\n",
    "from datetime import datetime"
   ]
  },
  {
   "cell_type": "code",
   "execution_count": 3,
   "id": "214ca063",
   "metadata": {},
   "outputs": [],
   "source": [
    "import pandas as pd"
   ]
  },
  {
   "cell_type": "code",
   "execution_count": null,
   "id": "293bad48",
   "metadata": {},
   "outputs": [],
   "source": [
    "dfPuebla = pd.read_csv(path+\"ChiapasDB.csv\")"
   ]
  },
  {
   "cell_type": "markdown",
   "id": "09552ede",
   "metadata": {},
   "source": [
    "Cambios"
   ]
  },
  {
   "cell_type": "code",
   "execution_count": 11,
   "id": "d1d99c76",
   "metadata": {},
   "outputs": [],
   "source": [
    "dfPuebla['SEXO'] = dfPuebla['SEXO'].astype('string')\n",
    "dfPuebla['SEXO'] = dfPuebla['SEXO'].replace([\"1\"], [\"FEMENINO\"])\n",
    "dfPuebla['SEXO'] = dfPuebla['SEXO'].replace([\"2\"], [\"MASCULINO\"])\n",
    "dfPuebla['SEXO'] = dfPuebla['SEXO'].replace([\"99\"], [\"NO ESPECIFICADO\"])"
   ]
  },
  {
   "cell_type": "code",
   "execution_count": 12,
   "id": "c27282f7",
   "metadata": {},
   "outputs": [],
   "source": [
    "dfPuebla['ORIGEN'] = dfPuebla['ORIGEN'].astype('string')\n",
    "dfPuebla['ORIGEN'] = dfPuebla['ORIGEN'].replace([\"1\"], [\"USMER\"])\n",
    "dfPuebla['ORIGEN'] = dfPuebla['ORIGEN'].replace([\"2\"], [\"FUERA DE USMER\"])\n",
    "dfPuebla['ORIGEN'] = dfPuebla['ORIGEN'].replace([\"99\"], [\"NO ESPECIFICADO\"])"
   ]
  },
  {
   "cell_type": "code",
   "execution_count": 13,
   "id": "c3a096ef",
   "metadata": {},
   "outputs": [],
   "source": [
    "dfPuebla['SECTOR'] = dfPuebla['SECTOR'].astype('string')\n",
    "dfPuebla['SECTOR'] = dfPuebla['SECTOR'].replace([\"1\"], [\"CRUZ ROJA\"])\n",
    "dfPuebla['SECTOR'] = dfPuebla['SECTOR'].replace([\"2\"], [\"DIF\"])\n",
    "dfPuebla['SECTOR'] = dfPuebla['SECTOR'].replace([\"3\"], [\"ESTATAL\"])\n",
    "dfPuebla['SECTOR'] = dfPuebla['SECTOR'].replace([\"4\"], [\"IMSS\"])\n",
    "dfPuebla['SECTOR'] = dfPuebla['SECTOR'].replace([\"5\"], [\"IMSS-BIENESTAR\"])\n",
    "dfPuebla['SECTOR'] = dfPuebla['SECTOR'].replace([\"6\"], [\"ISSSTE\"])\n",
    "dfPuebla['SECTOR'] = dfPuebla['SECTOR'].replace([\"7\"], [\"MUNICIPAL\"])\n",
    "dfPuebla['SECTOR'] = dfPuebla['SECTOR'].replace([\"8\"], [\"PEMEX\"])\n",
    "dfPuebla['SECTOR'] = dfPuebla['SECTOR'].replace([\"9\"], [\"PRIVADA\"])\n",
    "dfPuebla['SECTOR'] = dfPuebla['SECTOR'].replace([\"10\"], [\"SEDENA\"])\n",
    "dfPuebla['SECTOR'] = dfPuebla['SECTOR'].replace([\"11\"], [\"SEMAR\"])\n",
    "dfPuebla['SECTOR'] = dfPuebla['SECTOR'].replace([\"12\"], [\"SSA\"])\n",
    "dfPuebla['SECTOR'] = dfPuebla['SECTOR'].replace([\"13\"], [\"UNIVERSITARIO\"])\n",
    "dfPuebla['SECTOR'] = dfPuebla['SECTOR'].replace([\"99\"], [\"NO ESPECIFICADO\"])\n"
   ]
  },
  {
   "cell_type": "code",
   "execution_count": 14,
   "id": "77ae37b3",
   "metadata": {},
   "outputs": [],
   "source": [
    "dfPuebla['TIPO_PACIENTE'] = dfPuebla['TIPO_PACIENTE'].astype('string')\n",
    "dfPuebla['TIPO_PACIENTE'] = dfPuebla['TIPO_PACIENTE'].replace([\"1\"], [\"AMBULATORIO\"])\n",
    "dfPuebla['TIPO_PACIENTE'] = dfPuebla['TIPO_PACIENTE'].replace([\"2\"], [\"HOSPITALIZADO\"])\n",
    "dfPuebla['TIPO_PACIENTE'] = dfPuebla['TIPO_PACIENTE'].replace([\"99\"], [\"NO ESPECIFICADO\"])"
   ]
  },
  {
   "cell_type": "code",
   "execution_count": 15,
   "id": "4af18760",
   "metadata": {},
   "outputs": [],
   "source": [
    "dfPuebla['NACIONALIDAD'] = dfPuebla['NACIONALIDAD'].astype('string')\n",
    "dfPuebla['NACIONALIDAD'] = dfPuebla['NACIONALIDAD'].replace([\"1\"], [\"MEXICANA\"])\n",
    "dfPuebla['NACIONALIDAD'] = dfPuebla['NACIONALIDAD'].replace([\"2\"], [\"EXTRANJERA\"])\n",
    "dfPuebla['NACIONALIDAD'] = dfPuebla['NACIONALIDAD'].replace([\"99\"], [\"NO ESPECIFICADO\"])"
   ]
  },
  {
   "cell_type": "code",
   "execution_count": 16,
   "id": "8fa06a22",
   "metadata": {},
   "outputs": [],
   "source": [
    "dfPuebla['RESULTADO_LAB'] = dfPuebla['RESULTADO_LAB'].astype('string')\n",
    "dfPuebla['RESULTADO_LAB'] = dfPuebla['RESULTADO_LAB'].replace([\"1\"], [\"POSITIVO A SARS-COV-2\"])\n",
    "dfPuebla['RESULTADO_LAB'] = dfPuebla['RESULTADO_LAB'].replace([\"2\"], [\"NO POSITIVO A SARS-COV-2\"])\n",
    "dfPuebla['RESULTADO_LAB'] = dfPuebla['RESULTADO_LAB'].replace([\"3\"], [\"RESULTADO PENDIENTE\"])\n",
    "dfPuebla['RESULTADO_LAB'] = dfPuebla['RESULTADO_LAB'].replace([\"4\"], [\"RESULTADO NO ADECUADO\"])\n",
    "dfPuebla['RESULTADO_LAB'] = dfPuebla['RESULTADO_LAB'].replace([\"97\"], [\"NO APLICA (CASO SIN MUESTRA)\"])"
   ]
  },
  {
   "cell_type": "code",
   "execution_count": 17,
   "id": "e97836db",
   "metadata": {},
   "outputs": [],
   "source": [
    "dfPuebla['RESULTADO_ANTIGENO'] = dfPuebla['RESULTADO_ANTIGENO'].astype('string')\n",
    "dfPuebla['RESULTADO_ANTIGENO'] = dfPuebla['RESULTADO_ANTIGENO'].replace([\"1\"], [\"POSITIVO A SARS-COV-2\"])\n",
    "dfPuebla['RESULTADO_ANTIGENO'] = dfPuebla['RESULTADO_ANTIGENO'].replace([\"2\"], [\"NO POSITIVO A SARS-COV-2\"])\n",
    "dfPuebla['RESULTADO_ANTIGENO'] = dfPuebla['RESULTADO_ANTIGENO'].replace([\"97\"], [\"NO APLICA (CASO SIN MUESTRA)\"])"
   ]
  },
  {
   "cell_type": "code",
   "execution_count": 43,
   "id": "f7061785",
   "metadata": {},
   "outputs": [],
   "source": [
    "dfPuebla['CLASIFICACION_FINAL'] = dfPuebla['CLASIFICACION_FINAL'].astype('string')\n",
    "dfPuebla['CLASIFICACION_FINAL'] = dfPuebla['CLASIFICACION_FINAL'].replace([\"1\"], [\"CASO DE COVID-19 CONFIRMADO POR ASOCIACION CLINICA EPIDEMIOLOGICA\"])\n",
    "dfPuebla['CLASIFICACION_FINAL'] = dfPuebla['CLASIFICACION_FINAL'].replace([\"2\"], [\"CASO DE COVID-19 CONFIRMADO POR COMITO DE  DICTAMINACION\"])\n",
    "dfPuebla['CLASIFICACION_FINAL'] = dfPuebla['CLASIFICACION_FINAL'].replace([\"3\"], [\"CASO DE SARS-COV-2  CONFIRMADO\"])\n",
    "dfPuebla['CLASIFICACION_FINAL'] = dfPuebla['CLASIFICACION_FINAL'].replace([\"4\"], [\"INVALIDO POR LABORATORIO\"])\n",
    "dfPuebla['CLASIFICACION_FINAL'] = dfPuebla['CLASIFICACION_FINAL'].replace([\"5\"], [\"NO REALIZADO POR LABORATORIO\"])\n",
    "dfPuebla['CLASIFICACION_FINAL'] = dfPuebla['CLASIFICACION_FINAL'].replace([\"6\"], [\"CASO SOSPECHOSO\"])\n",
    "dfPuebla['CLASIFICACION_FINAL'] = dfPuebla['CLASIFICACION_FINAL'].replace([\"7\"], [\"NEGATIVO A SARS-COV-2\"])"
   ]
  },
  {
   "cell_type": "code",
   "execution_count": 19,
   "id": "74afad94",
   "metadata": {},
   "outputs": [],
   "source": [
    "dfPuebla['ENTIDAD_UM'] = dfPuebla['ENTIDAD_UM'].astype('string')\n",
    "dfPuebla['ENTIDAD_UM'] = dfPuebla['ENTIDAD_UM'].replace([\"1\"], [\"AGUASCALIENTES\"])\n",
    "dfPuebla['ENTIDAD_UM'] = dfPuebla['ENTIDAD_UM'].replace([\"2\"], [\"BAJA CALIFORNIA\"])\n",
    "dfPuebla['ENTIDAD_UM'] = dfPuebla['ENTIDAD_UM'].replace([\"3\"], [\"BAJA CALIFORNIA SUR\"])\n",
    "dfPuebla['ENTIDAD_UM'] = dfPuebla['ENTIDAD_UM'].replace([\"4\"], [\"CAMPECHE\"])\n",
    "dfPuebla['ENTIDAD_UM'] = dfPuebla['ENTIDAD_UM'].replace([\"5\"], [\"COAHUILA DE ZARAGOZA\"])\n",
    "dfPuebla['ENTIDAD_UM'] = dfPuebla['ENTIDAD_UM'].replace([\"6\"], [\"COLIMA\"])\n",
    "dfPuebla['ENTIDAD_UM'] = dfPuebla['ENTIDAD_UM'].replace([\"7\"], [\"CHIAPAS\"])\n",
    "dfPuebla['ENTIDAD_UM'] = dfPuebla['ENTIDAD_UM'].replace([\"8\"], [\"CHIHUAHUA\"])\n",
    "dfPuebla['ENTIDAD_UM'] = dfPuebla['ENTIDAD_UM'].replace([\"9\"], [\"CIUDAD DE MÉXICO\"])\n",
    "dfPuebla['ENTIDAD_UM'] = dfPuebla['ENTIDAD_UM'].replace([\"10\"], [\"DURANGO\"])\n",
    "dfPuebla['ENTIDAD_UM'] = dfPuebla['ENTIDAD_UM'].replace([\"11\"], [\"GUANAJUATO\"])\n",
    "dfPuebla['ENTIDAD_UM'] = dfPuebla['ENTIDAD_UM'].replace([\"12\"], [\"GUERRERO\"])\n",
    "dfPuebla['ENTIDAD_UM'] = dfPuebla['ENTIDAD_UM'].replace([\"13\"], [\"HIDALGO\"])\n",
    "dfPuebla['ENTIDAD_UM'] = dfPuebla['ENTIDAD_UM'].replace([\"14\"], [\"JALISCO\"])\n",
    "dfPuebla['ENTIDAD_UM'] = dfPuebla['ENTIDAD_UM'].replace([\"15\"], [\"MÉXICO\"])\n",
    "dfPuebla['ENTIDAD_UM'] = dfPuebla['ENTIDAD_UM'].replace([\"16\"], [\"MICHOACÁN DE OCAMPO\"])\n",
    "dfPuebla['ENTIDAD_UM'] = dfPuebla['ENTIDAD_UM'].replace([\"17\"], [\"MORELOS\"])\n",
    "dfPuebla['ENTIDAD_UM'] = dfPuebla['ENTIDAD_UM'].replace([\"18\"], [\"NAYARIT\"])\n",
    "dfPuebla['ENTIDAD_UM'] = dfPuebla['ENTIDAD_UM'].replace([\"19\"], [\"NUEVO LEÓN\"])\n",
    "dfPuebla['ENTIDAD_UM'] = dfPuebla['ENTIDAD_UM'].replace([\"20\"], [\"OAXACA\"])\n",
    "dfPuebla['ENTIDAD_UM'] = dfPuebla['ENTIDAD_UM'].replace([\"21\"], [\"PUEBLA\"])\n",
    "dfPuebla['ENTIDAD_UM'] = dfPuebla['ENTIDAD_UM'].replace([\"22\"], [\"QUERÉTARO\"])\n",
    "dfPuebla['ENTIDAD_UM'] = dfPuebla['ENTIDAD_UM'].replace([\"23\"], [\"QUINTANA ROO\"])\n",
    "dfPuebla['ENTIDAD_UM'] = dfPuebla['ENTIDAD_UM'].replace([\"24\"], [\"SAN LUIS POTOSI\"])\n",
    "dfPuebla['ENTIDAD_UM'] = dfPuebla['ENTIDAD_UM'].replace([\"25\"], [\"SINALOA\"])\n",
    "dfPuebla['ENTIDAD_UM'] = dfPuebla['ENTIDAD_UM'].replace([\"26\"], [\"SONORA\"])\n",
    "dfPuebla['ENTIDAD_UM'] = dfPuebla['ENTIDAD_UM'].replace([\"27\"], [\"TABASCO\"])\n",
    "dfPuebla['ENTIDAD_UM'] = dfPuebla['ENTIDAD_UM'].replace([\"28\"], [\"TAMAULIPAS\"])\n",
    "dfPuebla['ENTIDAD_UM'] = dfPuebla['ENTIDAD_UM'].replace([\"29\"], [\"TLAXCALA\"])\n",
    "dfPuebla['ENTIDAD_UM'] = dfPuebla['ENTIDAD_UM'].replace([\"30\"], [\"VERACRUZ\"])\n",
    "dfPuebla['ENTIDAD_UM'] = dfPuebla['ENTIDAD_UM'].replace([\"31\"], [\"YUCATAN\"])\n",
    "dfPuebla['ENTIDAD_UM'] = dfPuebla['ENTIDAD_UM'].replace([\"32\"], [\"ZACATECAS\"])\n",
    "dfPuebla['ENTIDAD_UM'] = dfPuebla['ENTIDAD_UM'].replace([\"36\"], [\"ESTADOS UNIDOS MEXICANOS\"])\n",
    "dfPuebla['ENTIDAD_UM'] = dfPuebla['ENTIDAD_UM'].replace([\"97\"], [\"NO APLICA\"])\n",
    "dfPuebla['ENTIDAD_UM'] = dfPuebla['ENTIDAD_UM'].replace([\"98\"], [\"SE IGNORA\"])\n",
    "dfPuebla['ENTIDAD_UM'] = dfPuebla['ENTIDAD_UM'].replace([\"99\"], [\"NO ESPECIFICADO\"])"
   ]
  },
  {
   "cell_type": "code",
   "execution_count": 20,
   "id": "e8e7aafc",
   "metadata": {},
   "outputs": [],
   "source": [
    "dfPuebla['ENTIDAD_NAC'] = dfPuebla['ENTIDAD_NAC'].astype('string')\n",
    "dfPuebla['ENTIDAD_NAC'] = dfPuebla['ENTIDAD_NAC'].replace([\"1\"], [\"AGUASCALIENTES\"])\n",
    "dfPuebla['ENTIDAD_NAC'] = dfPuebla['ENTIDAD_NAC'].replace([\"2\"], [\"BAJA CALIFORNIA\"])\n",
    "dfPuebla['ENTIDAD_NAC'] = dfPuebla['ENTIDAD_NAC'].replace([\"3\"], [\"BAJA CALIFORNIA SUR\"])\n",
    "dfPuebla['ENTIDAD_NAC'] = dfPuebla['ENTIDAD_NAC'].replace([\"4\"], [\"CAMPECHE\"])\n",
    "dfPuebla['ENTIDAD_NAC'] = dfPuebla['ENTIDAD_NAC'].replace([\"5\"], [\"COAHUILA DE ZARAGOZA\"])\n",
    "dfPuebla['ENTIDAD_NAC'] = dfPuebla['ENTIDAD_NAC'].replace([\"6\"], [\"COLIMA\"])\n",
    "dfPuebla['ENTIDAD_NAC'] = dfPuebla['ENTIDAD_NAC'].replace([\"7\"], [\"CHIAPAS\"])\n",
    "dfPuebla['ENTIDAD_NAC'] = dfPuebla['ENTIDAD_NAC'].replace([\"8\"], [\"CHIHUAHUA\"])\n",
    "dfPuebla['ENTIDAD_NAC'] = dfPuebla['ENTIDAD_NAC'].replace([\"9\"], [\"CIUDAD DE MÉXICO\"])\n",
    "dfPuebla['ENTIDAD_NAC'] = dfPuebla['ENTIDAD_NAC'].replace([\"10\"], [\"DURANGO\"])\n",
    "dfPuebla['ENTIDAD_NAC'] = dfPuebla['ENTIDAD_NAC'].replace([\"11\"], [\"GUANAJUATO\"])\n",
    "dfPuebla['ENTIDAD_NAC'] = dfPuebla['ENTIDAD_NAC'].replace([\"12\"], [\"GUERRERO\"])\n",
    "dfPuebla['ENTIDAD_NAC'] = dfPuebla['ENTIDAD_NAC'].replace([\"13\"], [\"HIDALGO\"])\n",
    "dfPuebla['ENTIDAD_NAC'] = dfPuebla['ENTIDAD_NAC'].replace([\"14\"], [\"JALISCO\"])\n",
    "dfPuebla['ENTIDAD_NAC'] = dfPuebla['ENTIDAD_NAC'].replace([\"15\"], [\"MÉXICO\"])\n",
    "dfPuebla['ENTIDAD_NAC'] = dfPuebla['ENTIDAD_NAC'].replace([\"16\"], [\"MICHOACÁN DE OCAMPO\"])\n",
    "dfPuebla['ENTIDAD_NAC'] = dfPuebla['ENTIDAD_NAC'].replace([\"17\"], [\"MORELOS\"])\n",
    "dfPuebla['ENTIDAD_NAC'] = dfPuebla['ENTIDAD_NAC'].replace([\"18\"], [\"NAYARIT\"])\n",
    "dfPuebla['ENTIDAD_NAC'] = dfPuebla['ENTIDAD_NAC'].replace([\"19\"], [\"NUEVO LEÓN\"])\n",
    "dfPuebla['ENTIDAD_NAC'] = dfPuebla['ENTIDAD_NAC'].replace([\"20\"], [\"OAXACA\"])\n",
    "dfPuebla['ENTIDAD_NAC'] = dfPuebla['ENTIDAD_NAC'].replace([\"21\"], [\"PUEBLA\"])\n",
    "dfPuebla['ENTIDAD_NAC'] = dfPuebla['ENTIDAD_NAC'].replace([\"22\"], [\"QUERÉTARO\"])\n",
    "dfPuebla['ENTIDAD_NAC'] = dfPuebla['ENTIDAD_NAC'].replace([\"23\"], [\"QUINTANA ROO\"])\n",
    "dfPuebla['ENTIDAD_NAC'] = dfPuebla['ENTIDAD_NAC'].replace([\"24\"], [\"SAN LUIS POTOSI\"])\n",
    "dfPuebla['ENTIDAD_NAC'] = dfPuebla['ENTIDAD_NAC'].replace([\"25\"], [\"SINALOA\"])\n",
    "dfPuebla['ENTIDAD_NAC'] = dfPuebla['ENTIDAD_NAC'].replace([\"26\"], [\"SONORA\"])\n",
    "dfPuebla['ENTIDAD_NAC'] = dfPuebla['ENTIDAD_NAC'].replace([\"27\"], [\"TABASCO\"])\n",
    "dfPuebla['ENTIDAD_NAC'] = dfPuebla['ENTIDAD_NAC'].replace([\"28\"], [\"TAMAULIPAS\"])\n",
    "dfPuebla['ENTIDAD_NAC'] = dfPuebla['ENTIDAD_NAC'].replace([\"29\"], [\"TLAXCALA\"])\n",
    "dfPuebla['ENTIDAD_NAC'] = dfPuebla['ENTIDAD_NAC'].replace([\"30\"], [\"VERACRUZ\"])\n",
    "dfPuebla['ENTIDAD_NAC'] = dfPuebla['ENTIDAD_NAC'].replace([\"31\"], [\"YUCATAN\"])\n",
    "dfPuebla['ENTIDAD_NAC'] = dfPuebla['ENTIDAD_NAC'].replace([\"32\"], [\"ZACATECAS\"])\n",
    "dfPuebla['ENTIDAD_NAC'] = dfPuebla['ENTIDAD_NAC'].replace([\"36\"], [\"ESTADOS UNIDOS MEXICANOS\"])\n",
    "dfPuebla['ENTIDAD_NAC'] = dfPuebla['ENTIDAD_NAC'].replace([\"97\"], [\"NO APLICA\"])\n",
    "dfPuebla['ENTIDAD_NAC'] = dfPuebla['ENTIDAD_NAC'].replace([\"98\"], [\"SE IGNORA\"])\n",
    "dfPuebla['ENTIDAD_NAC'] = dfPuebla['ENTIDAD_NAC'].replace([\"99\"], [\"NO ESPECIFICADO\"])"
   ]
  },
  {
   "cell_type": "code",
   "execution_count": 21,
   "id": "87d7bdde",
   "metadata": {},
   "outputs": [],
   "source": [
    "dfPuebla['ENTIDAD_RES'] = dfPuebla['ENTIDAD_RES'].astype('string')\n",
    "dfPuebla['ENTIDAD_RES'] = dfPuebla['ENTIDAD_RES'].replace([\"1\"], [\"AGUASCALIENTES\"])\n",
    "dfPuebla['ENTIDAD_RES'] = dfPuebla['ENTIDAD_RES'].replace([\"2\"], [\"BAJA CALIFORNIA\"])\n",
    "dfPuebla['ENTIDAD_RES'] = dfPuebla['ENTIDAD_RES'].replace([\"3\"], [\"BAJA CALIFORNIA SUR\"])\n",
    "dfPuebla['ENTIDAD_RES'] = dfPuebla['ENTIDAD_RES'].replace([\"4\"], [\"CAMPECHE\"])\n",
    "dfPuebla['ENTIDAD_RES'] = dfPuebla['ENTIDAD_RES'].replace([\"5\"], [\"COAHUILA DE ZARAGOZA\"])\n",
    "dfPuebla['ENTIDAD_RES'] = dfPuebla['ENTIDAD_RES'].replace([\"6\"], [\"COLIMA\"])\n",
    "dfPuebla['ENTIDAD_RES'] = dfPuebla['ENTIDAD_RES'].replace([\"7\"], [\"CHIAPAS\"])\n",
    "dfPuebla['ENTIDAD_RES'] = dfPuebla['ENTIDAD_RES'].replace([\"8\"], [\"CHIHUAHUA\"])\n",
    "dfPuebla['ENTIDAD_RES'] = dfPuebla['ENTIDAD_RES'].replace([\"9\"], [\"CIUDAD DE MÉXICO\"])\n",
    "dfPuebla['ENTIDAD_RES'] = dfPuebla['ENTIDAD_RES'].replace([\"10\"], [\"DURANGO\"])\n",
    "dfPuebla['ENTIDAD_RES'] = dfPuebla['ENTIDAD_RES'].replace([\"11\"], [\"GUANAJUATO\"])\n",
    "dfPuebla['ENTIDAD_RES'] = dfPuebla['ENTIDAD_RES'].replace([\"12\"], [\"GUERRERO\"])\n",
    "dfPuebla['ENTIDAD_RES'] = dfPuebla['ENTIDAD_RES'].replace([\"13\"], [\"HIDALGO\"])\n",
    "dfPuebla['ENTIDAD_RES'] = dfPuebla['ENTIDAD_RES'].replace([\"14\"], [\"JALISCO\"])\n",
    "dfPuebla['ENTIDAD_RES'] = dfPuebla['ENTIDAD_RES'].replace([\"15\"], [\"MÉXICO\"])\n",
    "dfPuebla['ENTIDAD_RES'] = dfPuebla['ENTIDAD_RES'].replace([\"16\"], [\"MICHOACÁN DE OCAMPO\"])\n",
    "dfPuebla['ENTIDAD_RES'] = dfPuebla['ENTIDAD_RES'].replace([\"17\"], [\"MORELOS\"])\n",
    "dfPuebla['ENTIDAD_RES'] = dfPuebla['ENTIDAD_RES'].replace([\"18\"], [\"NAYARIT\"])\n",
    "dfPuebla['ENTIDAD_RES'] = dfPuebla['ENTIDAD_RES'].replace([\"19\"], [\"NUEVO LEÓN\"])\n",
    "dfPuebla['ENTIDAD_RES'] = dfPuebla['ENTIDAD_RES'].replace([\"20\"], [\"OAXACA\"])\n",
    "dfPuebla['ENTIDAD_RES'] = dfPuebla['ENTIDAD_RES'].replace([\"21\"], [\"PUEBLA\"])\n",
    "dfPuebla['ENTIDAD_RES'] = dfPuebla['ENTIDAD_RES'].replace([\"22\"], [\"QUERÉTARO\"])\n",
    "dfPuebla['ENTIDAD_RES'] = dfPuebla['ENTIDAD_RES'].replace([\"23\"], [\"QUINTANA ROO\"])\n",
    "dfPuebla['ENTIDAD_RES'] = dfPuebla['ENTIDAD_RES'].replace([\"24\"], [\"SAN LUIS POTOSI\"])\n",
    "dfPuebla['ENTIDAD_RES'] = dfPuebla['ENTIDAD_RES'].replace([\"25\"], [\"SINALOA\"])\n",
    "dfPuebla['ENTIDAD_RES'] = dfPuebla['ENTIDAD_RES'].replace([\"26\"], [\"SONORA\"])\n",
    "dfPuebla['ENTIDAD_RES'] = dfPuebla['ENTIDAD_RES'].replace([\"27\"], [\"TABASCO\"])\n",
    "dfPuebla['ENTIDAD_RES'] = dfPuebla['ENTIDAD_RES'].replace([\"28\"], [\"TAMAULIPAS\"])\n",
    "dfPuebla['ENTIDAD_RES'] = dfPuebla['ENTIDAD_RES'].replace([\"29\"], [\"TLAXCALA\"])\n",
    "dfPuebla['ENTIDAD_RES'] = dfPuebla['ENTIDAD_RES'].replace([\"30\"], [\"VERACRUZ\"])\n",
    "dfPuebla['ENTIDAD_RES'] = dfPuebla['ENTIDAD_RES'].replace([\"31\"], [\"YUCATAN\"])\n",
    "dfPuebla['ENTIDAD_RES'] = dfPuebla['ENTIDAD_RES'].replace([\"32\"], [\"ZACATECAS\"])\n",
    "dfPuebla['ENTIDAD_RES'] = dfPuebla['ENTIDAD_RES'].replace([\"36\"], [\"ESTADOS UNIDOS MEXICANOS\"])\n",
    "dfPuebla['ENTIDAD_RES'] = dfPuebla['ENTIDAD_RES'].replace([\"97\"], [\"NO APLICA\"])\n",
    "dfPuebla['ENTIDAD_RES'] = dfPuebla['ENTIDAD_RES'].replace([\"98\"], [\"SE IGNORA\"])\n",
    "dfPuebla['ENTIDAD_RES'] = dfPuebla['ENTIDAD_RES'].replace([\"99\"], [\"NO ESPECIFICADO\"])"
   ]
  },
  {
   "cell_type": "code",
   "execution_count": 22,
   "id": "50e35c07",
   "metadata": {},
   "outputs": [],
   "source": [
    "dfPuebla['INTUBADO'] = dfPuebla['INTUBADO'].astype('string')\n",
    "dfPuebla['INTUBADO'] = dfPuebla['INTUBADO'].replace([\"1\"], [\"SI\"])\n",
    "dfPuebla['INTUBADO'] = dfPuebla['INTUBADO'].replace([\"2\"], [\"NO\"])\n",
    "dfPuebla['INTUBADO'] = dfPuebla['INTUBADO'].replace([\"97\"], [\"NO APLICA\"])\n",
    "dfPuebla['INTUBADO'] = dfPuebla['INTUBADO'].replace([\"98\"], [\"SE IGNORA\"])\n",
    "dfPuebla['INTUBADO'] = dfPuebla['INTUBADO'].replace([\"99\"], [\"NO ESPECIFICADO\"])"
   ]
  },
  {
   "cell_type": "code",
   "execution_count": 23,
   "id": "31f7a297",
   "metadata": {},
   "outputs": [],
   "source": [
    "dfPuebla['NEUMONIA'] = dfPuebla['NEUMONIA'].astype('string')\n",
    "dfPuebla['NEUMONIA'] = dfPuebla['NEUMONIA'].replace([\"1\"], [\"SI\"])\n",
    "dfPuebla['NEUMONIA'] = dfPuebla['NEUMONIA'].replace([\"2\"], [\"NO\"])\n",
    "dfPuebla['NEUMONIA'] = dfPuebla['NEUMONIA'].replace([\"97\"], [\"NO APLICA\"])\n",
    "dfPuebla['NEUMONIA'] = dfPuebla['NEUMONIA'].replace([\"98\"], [\"SE IGNORA\"])\n",
    "dfPuebla['NEUMONIA'] = dfPuebla['NEUMONIA'].replace([\"99\"], [\"NO ESPECIFICADO\"])"
   ]
  },
  {
   "cell_type": "code",
   "execution_count": 24,
   "id": "a0ff6f95",
   "metadata": {},
   "outputs": [],
   "source": [
    "dfPuebla['EMBARAZO'] = dfPuebla['EMBARAZO'].astype('string')\n",
    "dfPuebla['EMBARAZO'] = dfPuebla['EMBARAZO'].replace([\"1\"], [\"SI\"])\n",
    "dfPuebla['EMBARAZO'] = dfPuebla['EMBARAZO'].replace([\"2\"], [\"NO\"])\n",
    "dfPuebla['EMBARAZO'] = dfPuebla['EMBARAZO'].replace([\"97\"], [\"NO APLICA\"])\n",
    "dfPuebla['EMBARAZO'] = dfPuebla['EMBARAZO'].replace([\"98\"], [\"SE IGNORA\"])\n",
    "dfPuebla['EMBARAZO'] = dfPuebla['EMBARAZO'].replace([\"99\"], [\"NO ESPECIFICADO\"])"
   ]
  },
  {
   "cell_type": "code",
   "execution_count": 25,
   "id": "19d5bc08",
   "metadata": {},
   "outputs": [],
   "source": [
    "dfPuebla['HABLA_LENGUA_INDIG'] = dfPuebla['HABLA_LENGUA_INDIG'].astype('string')\n",
    "dfPuebla['HABLA_LENGUA_INDIG'] = dfPuebla['HABLA_LENGUA_INDIG'].replace([\"1\"], [\"SI\"])\n",
    "dfPuebla['HABLA_LENGUA_INDIG'] = dfPuebla['HABLA_LENGUA_INDIG'].replace([\"2\"], [\"NO\"])\n",
    "dfPuebla['HABLA_LENGUA_INDIG'] = dfPuebla['HABLA_LENGUA_INDIG'].replace([\"97\"], [\"NO APLICA\"])\n",
    "dfPuebla['HABLA_LENGUA_INDIG'] = dfPuebla['HABLA_LENGUA_INDIG'].replace([\"98\"], [\"SE IGNORA\"])\n",
    "dfPuebla['HABLA_LENGUA_INDIG'] = dfPuebla['HABLA_LENGUA_INDIG'].replace([\"99\"], [\"NO ESPECIFICADO\"])"
   ]
  },
  {
   "cell_type": "code",
   "execution_count": 26,
   "id": "88c7c054",
   "metadata": {},
   "outputs": [],
   "source": [
    "dfPuebla['INDIGENA'] = dfPuebla['INDIGENA'].astype('string')\n",
    "dfPuebla['INDIGENA'] = dfPuebla['INDIGENA'].replace([\"1\"], [\"SI\"])\n",
    "dfPuebla['INDIGENA'] = dfPuebla['INDIGENA'].replace([\"2\"], [\"NO\"])\n",
    "dfPuebla['INDIGENA'] = dfPuebla['INDIGENA'].replace([\"97\"], [\"NO APLICA\"])\n",
    "dfPuebla['INDIGENA'] = dfPuebla['INDIGENA'].replace([\"98\"], [\"SE IGNORA\"])\n",
    "dfPuebla['INDIGENA'] = dfPuebla['INDIGENA'].replace([\"99\"], [\"NO ESPECIFICADO\"])"
   ]
  },
  {
   "cell_type": "code",
   "execution_count": 27,
   "id": "66603b30",
   "metadata": {},
   "outputs": [],
   "source": [
    "dfPuebla['DIABETES'] = dfPuebla['DIABETES'].astype('string')\n",
    "dfPuebla['DIABETES'] = dfPuebla['DIABETES'].replace([\"1\"], [\"SI\"])\n",
    "dfPuebla['DIABETES'] = dfPuebla['DIABETES'].replace([\"2\"], [\"NO\"])\n",
    "dfPuebla['DIABETES'] = dfPuebla['DIABETES'].replace([\"97\"], [\"NO APLICA\"])\n",
    "dfPuebla['DIABETES'] = dfPuebla['DIABETES'].replace([\"98\"], [\"SE IGNORA\"])\n",
    "dfPuebla['DIABETES'] = dfPuebla['DIABETES'].replace([\"99\"], [\"NO ESPECIFICADO\"])"
   ]
  },
  {
   "cell_type": "code",
   "execution_count": 28,
   "id": "79f05498",
   "metadata": {},
   "outputs": [],
   "source": [
    "dfPuebla['EPOC'] = dfPuebla['EPOC'].astype('string')\n",
    "dfPuebla['EPOC'] = dfPuebla['EPOC'].replace([\"1\"], [\"SI\"])\n",
    "dfPuebla['EPOC'] = dfPuebla['EPOC'].replace([\"2\"], [\"NO\"])\n",
    "dfPuebla['EPOC'] = dfPuebla['EPOC'].replace([\"97\"], [\"NO APLICA\"])\n",
    "dfPuebla['EPOC'] = dfPuebla['EPOC'].replace([\"98\"], [\"SE IGNORA\"])\n",
    "dfPuebla['EPOC'] = dfPuebla['EPOC'].replace([\"99\"], [\"NO ESPECIFICADO\"])"
   ]
  },
  {
   "cell_type": "code",
   "execution_count": 29,
   "id": "c5d6aa89",
   "metadata": {},
   "outputs": [],
   "source": [
    "dfPuebla['ASMA'] = dfPuebla['ASMA'].astype('string')\n",
    "dfPuebla['ASMA'] = dfPuebla['ASMA'].replace([\"1\"], [\"SI\"])\n",
    "dfPuebla['ASMA'] = dfPuebla['ASMA'].replace([\"2\"], [\"NO\"])\n",
    "dfPuebla['ASMA'] = dfPuebla['ASMA'].replace([\"97\"], [\"NO APLICA\"])\n",
    "dfPuebla['ASMA'] = dfPuebla['ASMA'].replace([\"98\"], [\"SE IGNORA\"])\n",
    "dfPuebla['ASMA'] = dfPuebla['ASMA'].replace([\"99\"], [\"NO ESPECIFICADO\"])"
   ]
  },
  {
   "cell_type": "code",
   "execution_count": 30,
   "id": "c9697144",
   "metadata": {},
   "outputs": [],
   "source": [
    "dfPuebla['INMUSUPR'] = dfPuebla['INMUSUPR'].astype('string')\n",
    "dfPuebla['INMUSUPR'] = dfPuebla['INMUSUPR'].replace([\"1\"], [\"SI\"])\n",
    "dfPuebla['INMUSUPR'] = dfPuebla['INMUSUPR'].replace([\"2\"], [\"NO\"])\n",
    "dfPuebla['INMUSUPR'] = dfPuebla['INMUSUPR'].replace([\"97\"], [\"NO APLICA\"])\n",
    "dfPuebla['INMUSUPR'] = dfPuebla['INMUSUPR'].replace([\"98\"], [\"SE IGNORA\"])\n",
    "dfPuebla['INMUSUPR'] = dfPuebla['INMUSUPR'].replace([\"99\"], [\"NO ESPECIFICADO\"])"
   ]
  },
  {
   "cell_type": "code",
   "execution_count": 31,
   "id": "aa3b852f",
   "metadata": {},
   "outputs": [],
   "source": [
    "dfPuebla['HIPERTENSION'] = dfPuebla['HIPERTENSION'].astype('string')\n",
    "dfPuebla['HIPERTENSION'] = dfPuebla['HIPERTENSION'].replace([\"1\"], [\"SI\"])\n",
    "dfPuebla['HIPERTENSION'] = dfPuebla['HIPERTENSION'].replace([\"2\"], [\"NO\"])\n",
    "dfPuebla['HIPERTENSION'] = dfPuebla['HIPERTENSION'].replace([\"97\"], [\"NO APLICA\"])\n",
    "dfPuebla['HIPERTENSION'] = dfPuebla['HIPERTENSION'].replace([\"98\"], [\"SE IGNORA\"])\n",
    "dfPuebla['HIPERTENSION'] = dfPuebla['HIPERTENSION'].replace([\"99\"], [\"NO ESPECIFICADO\"])"
   ]
  },
  {
   "cell_type": "code",
   "execution_count": 32,
   "id": "7d7b403e",
   "metadata": {},
   "outputs": [],
   "source": [
    "dfPuebla['OTRA_COM'] = dfPuebla['OTRA_COM'].astype('string')\n",
    "dfPuebla['OTRA_COM'] = dfPuebla['OTRA_COM'].replace([\"1\"], [\"SI\"])\n",
    "dfPuebla['OTRA_COM'] = dfPuebla['OTRA_COM'].replace([\"2\"], [\"NO\"])\n",
    "dfPuebla['OTRA_COM'] = dfPuebla['OTRA_COM'].replace([\"97\"], [\"NO APLICA\"])\n",
    "dfPuebla['OTRA_COM'] = dfPuebla['OTRA_COM'].replace([\"98\"], [\"SE IGNORA\"])\n",
    "dfPuebla['OTRA_COM'] = dfPuebla['OTRA_COM'].replace([\"99\"], [\"NO ESPECIFICADO\"])"
   ]
  },
  {
   "cell_type": "code",
   "execution_count": 33,
   "id": "e693a0bf",
   "metadata": {},
   "outputs": [],
   "source": [
    "dfPuebla['CARDIOVASCULAR'] = dfPuebla['CARDIOVASCULAR'].astype('string')\n",
    "dfPuebla['CARDIOVASCULAR'] = dfPuebla['CARDIOVASCULAR'].replace([\"1\"], [\"SI\"])\n",
    "dfPuebla['CARDIOVASCULAR'] = dfPuebla['CARDIOVASCULAR'].replace([\"2\"], [\"NO\"])\n",
    "dfPuebla['CARDIOVASCULAR'] = dfPuebla['CARDIOVASCULAR'].replace([\"97\"], [\"NO APLICA\"])\n",
    "dfPuebla['CARDIOVASCULAR'] = dfPuebla['CARDIOVASCULAR'].replace([\"98\"], [\"SE IGNORA\"])\n",
    "dfPuebla['CARDIOVASCULAR'] = dfPuebla['CARDIOVASCULAR'].replace([\"99\"], [\"NO ESPECIFICADO\"])"
   ]
  },
  {
   "cell_type": "code",
   "execution_count": 34,
   "id": "b0c09491",
   "metadata": {},
   "outputs": [],
   "source": [
    "dfPuebla['OBESIDAD'] = dfPuebla['OBESIDAD'].astype('string')\n",
    "dfPuebla['OBESIDAD'] = dfPuebla['OBESIDAD'].replace([\"1\"], [\"SI\"])\n",
    "dfPuebla['OBESIDAD'] = dfPuebla['OBESIDAD'].replace([\"2\"], [\"NO\"])\n",
    "dfPuebla['OBESIDAD'] = dfPuebla['OBESIDAD'].replace([\"97\"], [\"NO APLICA\"])\n",
    "dfPuebla['OBESIDAD'] = dfPuebla['OBESIDAD'].replace([\"98\"], [\"SE IGNORA\"])\n",
    "dfPuebla['OBESIDAD'] = dfPuebla['OBESIDAD'].replace([\"99\"], [\"NO ESPECIFICADO\"])"
   ]
  },
  {
   "cell_type": "code",
   "execution_count": 35,
   "id": "271d79a6",
   "metadata": {},
   "outputs": [],
   "source": [
    "dfPuebla['RENAL_CRONICA'] = dfPuebla['RENAL_CRONICA'].astype('string')\n",
    "dfPuebla['RENAL_CRONICA'] = dfPuebla['RENAL_CRONICA'].replace([\"1\"], [\"SI\"])\n",
    "dfPuebla['RENAL_CRONICA'] = dfPuebla['RENAL_CRONICA'].replace([\"2\"], [\"NO\"])\n",
    "dfPuebla['RENAL_CRONICA'] = dfPuebla['RENAL_CRONICA'].replace([\"97\"], [\"NO APLICA\"])\n",
    "dfPuebla['RENAL_CRONICA'] = dfPuebla['RENAL_CRONICA'].replace([\"98\"], [\"SE IGNORA\"])\n",
    "dfPuebla['RENAL_CRONICA'] = dfPuebla['RENAL_CRONICA'].replace([\"99\"], [\"NO ESPECIFICADO\"])"
   ]
  },
  {
   "cell_type": "code",
   "execution_count": 36,
   "id": "1b791c9f",
   "metadata": {},
   "outputs": [],
   "source": [
    "dfPuebla['TABAQUISMO'] = dfPuebla['TABAQUISMO'].astype('string')\n",
    "dfPuebla['TABAQUISMO'] = dfPuebla['TABAQUISMO'].replace([\"1\"], [\"SI\"])\n",
    "dfPuebla['TABAQUISMO'] = dfPuebla['TABAQUISMO'].replace([\"2\"], [\"NO\"])\n",
    "dfPuebla['TABAQUISMO'] = dfPuebla['TABAQUISMO'].replace([\"97\"], [\"NO APLICA\"])\n",
    "dfPuebla['TABAQUISMO'] = dfPuebla['TABAQUISMO'].replace([\"98\"], [\"SE IGNORA\"])\n",
    "dfPuebla['TABAQUISMO'] = dfPuebla['TABAQUISMO'].replace([\"99\"], [\"NO ESPECIFICADO\"])"
   ]
  },
  {
   "cell_type": "code",
   "execution_count": 37,
   "id": "cc7ece24",
   "metadata": {},
   "outputs": [],
   "source": [
    "dfPuebla['OTRO_CASO'] = dfPuebla['OTRO_CASO'].astype('string')\n",
    "dfPuebla['OTRO_CASO'] = dfPuebla['OTRO_CASO'].replace([\"1\"], [\"SI\"])\n",
    "dfPuebla['OTRO_CASO'] = dfPuebla['OTRO_CASO'].replace([\"2\"], [\"NO\"])\n",
    "dfPuebla['OTRO_CASO'] = dfPuebla['OTRO_CASO'].replace([\"97\"], [\"NO APLICA\"])\n",
    "dfPuebla['OTRO_CASO'] = dfPuebla['OTRO_CASO'].replace([\"98\"], [\"SE IGNORA\"])\n",
    "dfPuebla['OTRO_CASO'] = dfPuebla['OTRO_CASO'].replace([\"99\"], [\"NO ESPECIFICADO\"])"
   ]
  },
  {
   "cell_type": "code",
   "execution_count": 38,
   "id": "06d0e73b",
   "metadata": {},
   "outputs": [],
   "source": [
    "dfPuebla['TOMA_MUESTRA_LAB'] = dfPuebla['TOMA_MUESTRA_LAB'].astype('string')\n",
    "dfPuebla['TOMA_MUESTRA_LAB'] = dfPuebla['TOMA_MUESTRA_LAB'].replace([\"1\"], [\"SI\"])\n",
    "dfPuebla['TOMA_MUESTRA_LAB'] = dfPuebla['TOMA_MUESTRA_LAB'].replace([\"2\"], [\"NO\"])\n",
    "dfPuebla['TOMA_MUESTRA_LAB'] = dfPuebla['TOMA_MUESTRA_LAB'].replace([\"97\"], [\"NO APLICA\"])\n",
    "dfPuebla['TOMA_MUESTRA_LAB'] = dfPuebla['TOMA_MUESTRA_LAB'].replace([\"98\"], [\"SE IGNORA\"])\n",
    "dfPuebla['TOMA_MUESTRA_LAB'] = dfPuebla['TOMA_MUESTRA_LAB'].replace([\"99\"], [\"NO ESPECIFICADO\"])"
   ]
  },
  {
   "cell_type": "code",
   "execution_count": 39,
   "id": "0863e738",
   "metadata": {},
   "outputs": [],
   "source": [
    "dfPuebla['TOMA_MUESTRA_ANTIGENO'] = dfPuebla['TOMA_MUESTRA_ANTIGENO'].astype('string')\n",
    "dfPuebla['TOMA_MUESTRA_ANTIGENO'] = dfPuebla['TOMA_MUESTRA_ANTIGENO'].replace([\"1\"], [\"SI\"])\n",
    "dfPuebla['TOMA_MUESTRA_ANTIGENO'] = dfPuebla['TOMA_MUESTRA_ANTIGENO'].replace([\"2\"], [\"NO\"])\n",
    "dfPuebla['TOMA_MUESTRA_ANTIGENO'] = dfPuebla['TOMA_MUESTRA_ANTIGENO'].replace([\"97\"], [\"NO APLICA\"])\n",
    "dfPuebla['TOMA_MUESTRA_ANTIGENO'] = dfPuebla['TOMA_MUESTRA_ANTIGENO'].replace([\"98\"], [\"SE IGNORA\"])\n",
    "dfPuebla['TOMA_MUESTRA_ANTIGENO'] = dfPuebla['TOMA_MUESTRA_ANTIGENO'].replace([\"99\"], [\"NO ESPECIFICADO\"])"
   ]
  },
  {
   "cell_type": "code",
   "execution_count": 40,
   "id": "eb443550",
   "metadata": {},
   "outputs": [],
   "source": [
    "dfPuebla['MIGRANTE'] = dfPuebla['MIGRANTE'].astype('string')\n",
    "dfPuebla['MIGRANTE'] = dfPuebla['MIGRANTE'].replace([\"1\"], [\"SI\"])\n",
    "dfPuebla['MIGRANTE'] = dfPuebla['MIGRANTE'].replace([\"2\"], [\"NO\"])\n",
    "dfPuebla['MIGRANTE'] = dfPuebla['MIGRANTE'].replace([\"97\"], [\"NO APLICA\"])\n",
    "dfPuebla['MIGRANTE'] = dfPuebla['MIGRANTE'].replace([\"98\"], [\"SE IGNORA\"])\n",
    "dfPuebla['MIGRANTE'] = dfPuebla['MIGRANTE'].replace([\"99\"], [\"NO ESPECIFICADO\"])"
   ]
  },
  {
   "cell_type": "code",
   "execution_count": 41,
   "id": "06f1379d",
   "metadata": {},
   "outputs": [],
   "source": [
    "dfPuebla['UCI'] = dfPuebla['UCI'].astype('string')\n",
    "dfPuebla['UCI'] = dfPuebla['UCI'].replace([\"1\"], [\"SI\"])\n",
    "dfPuebla['UCI'] = dfPuebla['UCI'].replace([\"2\"], [\"NO\"])\n",
    "dfPuebla['UCI'] = dfPuebla['UCI'].replace([\"97\"], [\"NO APLICA\"])\n",
    "dfPuebla['UCI'] = dfPuebla['UCI'].replace([\"98\"], [\"SE IGNORA\"])\n",
    "dfPuebla['UCI'] = dfPuebla['UCI'].replace([\"99\"], [\"NO ESPECIFICADO\"])"
   ]
  },
  {
   "cell_type": "code",
   "execution_count": 42,
   "id": "2bfa7be4",
   "metadata": {},
   "outputs": [],
   "source": [
    "dfPuebla['PAIS_ORIGEN'] = dfPuebla['PAIS_ORIGEN'].replace([\"97\"], [\"NO APLICA\"])"
   ]
  },
  {
   "cell_type": "code",
   "execution_count": 44,
   "id": "e814ec47",
   "metadata": {},
   "outputs": [],
   "source": [
    "dfPuebla.to_csv(path + \"ChiapasTransformado.csv\", index=False, encoding='utf-8')"
   ]
  },
  {
   "cell_type": "code",
   "execution_count": null,
   "id": "57cc52ef",
   "metadata": {},
   "outputs": [],
   "source": []
  },
  {
   "cell_type": "code",
   "execution_count": null,
   "id": "c629cad6",
   "metadata": {},
   "outputs": [],
   "source": []
  },
  {
   "cell_type": "code",
   "execution_count": null,
   "id": "dd4939c5",
   "metadata": {},
   "outputs": [],
   "source": []
  },
  {
   "cell_type": "code",
   "execution_count": null,
   "id": "b40c46f7",
   "metadata": {},
   "outputs": [],
   "source": []
  },
  {
   "cell_type": "code",
   "execution_count": null,
   "id": "9b2b2d49",
   "metadata": {},
   "outputs": [],
   "source": []
  },
  {
   "cell_type": "code",
   "execution_count": null,
   "id": "bba35ab3",
   "metadata": {},
   "outputs": [],
   "source": []
  }
 ],
 "metadata": {
  "kernelspec": {
   "display_name": "Python 3 (ipykernel)",
   "language": "python",
   "name": "python3"
  },
  "language_info": {
   "codemirror_mode": {
    "name": "ipython",
    "version": 3
   },
   "file_extension": ".py",
   "mimetype": "text/x-python",
   "name": "python",
   "nbconvert_exporter": "python",
   "pygments_lexer": "ipython3",
   "version": "3.9.12"
  }
 },
 "nbformat": 4,
 "nbformat_minor": 5
}
